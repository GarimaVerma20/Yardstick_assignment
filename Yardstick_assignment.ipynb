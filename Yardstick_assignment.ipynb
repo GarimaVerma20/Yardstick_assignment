{
  "nbformat": 4,
  "nbformat_minor": 0,
  "metadata": {
    "colab": {
      "provenance": []
    },
    "kernelspec": {
      "name": "python3",
      "display_name": "Python 3"
    },
    "language_info": {
      "name": "python"
    }
  },
  "cells": [
    {
      "cell_type": "markdown",
      "source": [
        "# Task 1:  Managing Conversation History with Summarization\n",
        "1. Maintain a running conversation history of user–assistant chats.\n",
        "2. Implement summarization of conversation history to keep it concise.\n",
        "3. Allow customization options for truncation:\n",
        "\n",
        "          a. Limit by number of conversation turns (e.g., last n messages).\n",
        "\n",
        "          b. Limit by character/word length.\n",
        "\n",
        "4. Add periodic summarization:\n",
        "\n",
        "          a. Perform summarization after every k-th run of the conversation.\n",
        "\n",
        "          b. Store/replace the summarized version in the conversation history.\n",
        "\n",
        "5. Demonstrate the functionality by:\n",
        "\n",
        "          a. Feeding multiple conversation samples.\n",
        "\n",
        "          b. Showing outputs at different truncation settings.\n",
        "\n",
        "          c. Showing how summarization happens after every k-th run (e.g., after every 3rd run)."
      ],
      "metadata": {
        "id": "cNLIOzTMCDGl"
      }
    },
    {
      "cell_type": "code",
      "source": [
        "import os, json\n",
        "from typing import List, Dict, Any\n",
        "import requests"
      ],
      "metadata": {
        "id": "QDbyt2LCCAnX"
      },
      "execution_count": null,
      "outputs": []
    },
    {
      "cell_type": "code",
      "source": [
        "GROQ_API_KEY = \"Your Groq api key\""
      ],
      "metadata": {
        "id": "Su12AfyLuFSX"
      },
      "execution_count": null,
      "outputs": []
    },
    {
      "cell_type": "code",
      "source": [
        "GROQ_CHAT_ENDPOINT = \"https://api.groq.com/openai/v1/chat/completions\"\n",
        "HEADERS = {\n",
        "    \"Authorization\": f\"Bearer {GROQ_API_KEY}\",  # pass API key for authentication\n",
        "    \"Content-Type\": \"application/json\"          # tell server we are sending JSON format\n",
        "}"
      ],
      "metadata": {
        "id": "7Gzx1tQNj6dK"
      },
      "execution_count": null,
      "outputs": []
    },
    {
      "cell_type": "markdown",
      "source": [
        "call_groq() function is built for sending chat history to Groq API and it give assistant reply for users question."
      ],
      "metadata": {
        "id": "wufyWXaNRAk5"
      }
    },
    {
      "cell_type": "code",
      "source": [
        "def call_groq(messages, model=\"meta-llama/llama-4-scout-17b-16e-instruct\", temperature=0.7, max_tokens=5000):\n",
        "\n",
        "    # Send chat history to Groq API and return assistant reply.\n",
        "\n",
        "    api_call = {\n",
        "        \"model\": model,\n",
        "        \"messages\": messages,\n",
        "        \"temperature\": temperature,\n",
        "        \"max_tokens\": max_tokens\n",
        "    }\n",
        "    response = requests.post(GROQ_CHAT_ENDPOINT, headers = HEADERS, json = api_call)\n",
        "    response.raise_for_status()\n",
        "    data = response.json()\n",
        "    return data[\"choices\"][0][\"message\"][\"content\"]\n"
      ],
      "metadata": {
        "id": "5rV3-b2xvG7c"
      },
      "execution_count": null,
      "outputs": []
    },
    {
      "cell_type": "markdown",
      "source": [
        "summarize_conversation() function summarize whole conversation"
      ],
      "metadata": {
        "id": "K16pPxqyR0t4"
      }
    },
    {
      "cell_type": "code",
      "source": [
        "def summarize_conversation(conversation):\n",
        "\n",
        "    # summarize the whole conversation in a few sentences.\n",
        "\n",
        "    summary_prompt = conversation + [\n",
        "        {\"role\": \"user\", \"content\": \"Please summarize this conversation in sentences.\"}\n",
        "    ]\n",
        "    return call_groq(summary_prompt)"
      ],
      "metadata": {
        "id": "8zZZXUcxvG42"
      },
      "execution_count": null,
      "outputs": []
    },
    {
      "cell_type": "markdown",
      "source": [
        "truncate_conversation() function is used for truncation logic using either last N messages and/or character limit"
      ],
      "metadata": {
        "id": "4wzRaDDFSH7Q"
      }
    },
    {
      "cell_type": "code",
      "source": [
        "def truncate_conversation(conversation, max_turns=None, max_chars=None, method=\"turns\"):\n",
        "\n",
        "    # Truncate conversation by turns OR by character length.\n",
        "\n",
        "    if method == \"turns\" and max_turns is not None:\n",
        "        return conversation[-max_turns:]   # keep last N messages\n",
        "\n",
        "    if method == \"chars\" and max_chars is not None:\n",
        "        text = \"\"\n",
        "        truncated = []\n",
        "        for msg in reversed(conversation):\n",
        "            if len(text) + len(msg[\"content\"]) > max_chars:\n",
        "                break\n",
        "            truncated.insert(0, msg)\n",
        "            text += msg[\"content\"]\n",
        "        return truncated\n",
        "\n",
        "    return conversation"
      ],
      "metadata": {
        "id": "Faq_3v1XvG2d"
      },
      "execution_count": null,
      "outputs": []
    },
    {
      "cell_type": "markdown",
      "source": [
        "periodic_summarization() function is for summarizing conversation after k user turns and replace history"
      ],
      "metadata": {
        "id": "wuh7tdMlS7io"
      }
    },
    {
      "cell_type": "code",
      "source": [
        "def periodic_summarization(conversation, turn_count, k):\n",
        "\n",
        "    # Summarize after every k user turns.\n",
        "    # Replace history with summary as system message.\n",
        "\n",
        "    if turn_count % k == 0 and turn_count > 0:\n",
        "        print(\"\\n Summarizing conversation \")\n",
        "        summary = summarize_conversation(conversation)\n",
        "        print(\"Summary:\", summary)\n",
        "        # reset conversation to compact summary\n",
        "        conversation = [\n",
        "            {\"role\": \"system\", \"content\": \"Running summary: \" + summary}\n",
        "        ]\n",
        "    return conversation"
      ],
      "metadata": {
        "id": "YsQl7wWTvGzl"
      },
      "execution_count": null,
      "outputs": []
    },
    {
      "cell_type": "markdown",
      "source": [
        "final_chat() is main function, which gives chance to user for selecting truncation method, then choosing limit and k.\n",
        "Then take query from user, send it to above function for getting response for that query."
      ],
      "metadata": {
        "id": "YyoqN_pbTQBY"
      }
    },
    {
      "cell_type": "code",
      "source": [
        "def final_chat():\n",
        "    conversation = []\n",
        "    turn_count = 0\n",
        "\n",
        "    # User chooses truncation method\n",
        "    trunc_method = input(\"Choose truncation method (turns/chars): \").strip().lower()\n",
        "\n",
        "    max_turns, max_chars = None, None\n",
        "    if trunc_method == \"turns\":\n",
        "        max_turns = int(input(\"Enter max number of turns to keep: \"))\n",
        "    elif trunc_method == \"chars\":\n",
        "        max_chars = int(input(\"Enter max number of characters to keep: \"))\n",
        "\n",
        "    # User chooses k (summarization frequency)\n",
        "    k = int(input(\"Summarize after how many user messages (k)? \"))\n",
        "\n",
        "    print(\"\\nChat started! Type 'exit' to quit.\\n\")\n",
        "\n",
        "    while True:\n",
        "        user_input = input(\"You: \")\n",
        "\n",
        "        if user_input.lower() in [\"exit\", \"quit\"]:\n",
        "            print(\"Chat ended.\")\n",
        "            break\n",
        "\n",
        "        # Add user message\n",
        "        conversation.append({\"role\": \"user\", \"content\": user_input})\n",
        "        turn_count += 1\n",
        "\n",
        "        # Apply truncation\n",
        "        conversation = truncate_conversation(conversation, max_turns, max_chars, trunc_method)\n",
        "\n",
        "        # Call Groq for reply\n",
        "        reply = call_groq(conversation)\n",
        "        print(\"Assistant:\", reply)\n",
        "\n",
        "        # Add assistant reply\n",
        "        conversation.append({\"role\": \"assistant\", \"content\": reply})\n",
        "\n",
        "        # Periodic summarization\n",
        "        conversation = periodic_summarization(conversation, turn_count, k)\n",
        "\n",
        "\n",
        "# final function\n",
        "final_chat()"
      ],
      "metadata": {
        "colab": {
          "base_uri": "https://localhost:8080/"
        },
        "id": "rzhceOtKvGuc",
        "outputId": "8a7b8fc9-442f-499d-973f-98f147710ad3"
      },
      "execution_count": null,
      "outputs": [
        {
          "output_type": "stream",
          "name": "stdout",
          "text": [
            "Choose truncation method (turns/chars): turns\n",
            "Enter max number of turns to keep: 4\n",
            "Summarize after how many user messages (k)? 3\n",
            "\n",
            "Chat started! Type 'exit' to quit.\n",
            "\n",
            "You: what is capital of India\n",
            "Assistant: The capital of India is **New Delhi**.\n",
            "You: tell me about blood moon\n",
            "Assistant: The **Blood Moon**! It's a rare and awe-inspiring lunar event that has captivated humans for centuries. Here's what you need to know:\n",
            "\n",
            "### **What is a Blood Moon?**  \n",
            "A Blood Moon occurs during a **total lunar eclipse**, when the Moon passes through Earth's shadow. The Earth's atmosphere scatters shorter wavelengths of light (like blue and violet) more than longer ones (like red and orange). This scattering effect bends some sunlight around the Earth, casting a reddish glow on the Moon, giving it a **rusty, reddish-brown appearance**. \n",
            "\n",
            "### **Why \"Blood\"?**  \n",
            "The term **\"Blood Moon\"** isn't scientifically precise but refers to the Moon's reddish hue during the eclipse. This phenomenon has also been called a **\"Red Moon\"** or **\"Hunter's Moon\"** (if it occurs near autumnal equinoxes).\n",
            "\n",
            "### **Types of Lunar Eclipses**  \n",
            "- **Penumbral Lunar Eclipse**: The Moon passes through Earth's partial shadow, causing a subtle darkening.  \n",
            "- **Partial Lunar Eclipse**: Only part of the Moon enters Earth's umbra (direct shadow), creating a \"bite\" out of its edge.  \n",
            "- **Total Lunar Eclipse (Blood Moon)**: The entire Moon is engulfed in Earth's umbra, turning it red.  \n",
            "\n",
            "### **Frequency & Cultural Significance**  \n",
            "Blood Moons are relatively rare because the Sun, Earth, and Moon must align perfectly (syzygy). They're often associated with folklore, myths, or religious texts. For example, multiple Blood Moons in a short span are sometimes called a **\"Tetrad.\"**  \n",
            "\n",
            "### **Next Blood Moon?**  \n",
            "Check NASA or astronomical websites for eclipse predictions. The next total lunar eclipse (Blood Moon) is on **March 14, 2025**.  \n",
            "\n",
            "### **Viewing Tips**  \n",
            "- **No special equipment needed**: Just find a dark spot with a clear view of the Moon.  \n",
            "- **Best during totality**: The red color is most vivid when the Moon is fully in Earth's shadow.  \n",
            "\n",
            "The Blood Moon is a striking reminder of our cosmic connections! 🌕🔴  \n",
            "\n",
            "Let me know if you'd like more details!\n",
            "You: Latest news about India\n",
            "Assistant: Here are some of the **latest news stories from India**:\n",
            "\n",
            "### **National News**  \n",
            "1. **Census 2021 Update**: The Indian government has postponed the caste-based census, but the religious census is likely to proceed.  \n",
            "2. **Manipur Violence**: The Centre plans to deploy additional **10,000 security personnel** in Manipur amid ongoing ethnic clashes.  \n",
            "3. **NEET UG 2024**: The National Eligibility cum Entrance Test (Undergraduate) results have been announced; several toppers scored **720/720**.  \n",
            "\n",
            "### **International News**  \n",
            "1. **India-Maldives Relations**: The Maldives has **banned Israeli tourists** amid rising tensions over the Gaza conflict.  \n",
            "2. **India-UAE Trade**: India and the UAE are **negotiating a free trade agreement** to boost bilateral trade.  \n",
            "\n",
            "### **Sports**  \n",
            "1. **Paris Olympics 2024**: India’s **archery team** secured its **third quota** for the Olympics.  \n",
            "2. **T20 World Cup 2024**: India will play **Afghanistan** in their first match on **June 20**.  \n",
            "\n",
            "### **Technology**  \n",
            "1. **ISRO’s Next Mission**: **ISRO** is planning a **reusable launch vehicle (RLV) test** soon.  \n",
            "2. **Jio’s New Plan**: **Reliance Jio** has launched a ** ₹399 plan** with **unlimited 5G data** for 30 days.  \n",
            "\n",
            "### **Business**  \n",
            "1. **Stock Market**: The **Sensex** and **Nifty** hit **all-time highs** driven by positive global cues.  \n",
            "2. **GST Collections**: **July GST collections** crossed **₹1.6 lakh crore**, a record high.  \n",
            "\n",
            "### **Weather**  \n",
            "1. **Monsoon Update**: The **monsoon** is expected to **intensify** across India in the coming days.  \n",
            "2. **Heatwave**: Several parts of **North India** are experiencing **severe heatwaves** with temperatures above **45°C**.  \n",
            "\n",
            "For the most up-to-date news, I recommend checking out reliable sources like:  \n",
            "- **The Hindu**  \n",
            "- **The Indian Express**  \n",
            "- **NDTV**  \n",
            "- **Times of India**  \n",
            "\n",
            "Let me know if you'd like more details on any specific topic!\n",
            "\n",
            " Summarizing conversation \n",
            "Summary: Here's a summary of our conversation:\n",
            "\n",
            "- We identified that **New Delhi** is the capital of India.  \n",
            "- We discussed the **Blood Moon**, a lunar event where the Moon appears reddish during a total lunar eclipse due to Earth's atmosphere scattering light.  \n",
            "- I provided **latest news updates from India**, covering topics like national developments, international relations, sports, technology, business, and weather.  \n",
            "\n",
            "Let me know if you need further assistance!\n",
            "You: when and where will be next olympics scheduled\n",
            "Assistant: The next Olympic Games are:\n",
            "\n",
            "**Summer Olympics 2024:**\n",
            "- **When:** July 26 to August 11, 2024\n",
            "- **Where:** Paris, France\n",
            "\n",
            "**Winter Olympics 2026:**\n",
            "- **When:** February 6 to February 22, 2026\n",
            "- **Where:** Milan-Cortina, Italy\n",
            "\n",
            "**Future Olympics:**\n",
            "- **2028 Summer Olympics:** Los Angeles, USA (dates TBD)\n",
            "- **2030 Winter Olympics:** TBD (host city selection process ongoing)\n",
            "\n",
            "Stay tuned for updates!\n",
            "You: suggest some books for self development\n",
            "Assistant: Here are some highly recommended self-development books:\n",
            "\n",
            "**Personal Growth & Mindset:**\n",
            "\n",
            "1. **\"The 7 Habits of Highly Effective People\" by Stephen Covey**: Timeless principles for personal effectiveness.\n",
            "2. **\"Mindset: The New Psychology of Success\" by Carol S. Dweck**: Cultivate a growth mindset for success.\n",
            "3. **\"The Power of Now\" by Eckhart Tolle**: Live in the present moment.\n",
            "\n",
            "**Productivity & Time Management:**\n",
            "\n",
            "1. **\"The 5 AM Club: Own Your Morning, Elevate Your Life\" by Robin Sharma**: Boost productivity with early mornings.\n",
            "2. **\"Essentialism: The Disciplined Pursuit of Less\" by Greg McKeown**: Focus on what truly matters.\n",
            "3. **\"Deep Work: Rules for Focused Success in a Distracted World\" by Cal Newport**: Minimize distractions.\n",
            "\n",
            "**Goal Setting & Achievement:**\n",
            "\n",
            "1. **\"The 10X Rule: The Only Difference Between Success and Failure\" by Grant Cardone**: Set ambitious goals.\n",
            "2. **\"Atomic Habits: An Easy & Proven Way to Build Good Habits & Break Bad Ones\" by James Clear**: Build positive habits.\n",
            "3. **\"The Miracle Morning: The Not-So-Obvious Secret Guaranteed to Transform Your Life (Before 8AM)\" by Hal Elrod**: Create a morning routine.\n",
            "\n",
            "**Leadership & Communication:**\n",
            "\n",
            "1. **\"The 21 Irrefutable Laws of Leadership: Follow Them and People Will Follow You\" by John C. Maxwell**: Develop leadership skills.\n",
            "2. **\"Influence: The Psychology of Persuasion\" by Robert Cialdini**: Master effective communication.\n",
            "3. **\"Difficult Conversations: How to Discuss What Matters Most\" by Douglas Stone, Bruce Patton, and Sheila Heen**: Navigate tough conversations.\n",
            "\n",
            "**Mindfulness & Well-being:**\n",
            "\n",
            "1. **\"The Mindful Way Workbook: An 8-Week Program to Free Yourself from Depression and Emotional Distress\" by John D. Teasdale, J. Mark G. Williams, and Zindel V. Segal**: Practice mindfulness.\n",
            "2. **\"The Happiness Project: Or, Why I Spent a Year Trying to Sing in the Morning, Clean My Closets, Fight Right, Read Aristotle, and Generally Have More Fun\" by Gretchen Rubin**: Cultivate happiness.\n",
            "3. **\"Self-Compassion: The Proven Power of Being Kind to Yourself\" by Kristin Neff**: Develop self-compassion.\n",
            "\n",
            "**Inspiration & Motivation:**\n",
            "\n",
            "1. **\"The Alchemist\" by Paulo Coelho**: A fable for inspiration.\n",
            "2. **\"The 4-Hour Work Week: Escape the 9-5, Live Anywhere and Join the New Rich\" by Timothy Ferriss**: Reimagine your work-life balance.\n",
            "3. **\"You Are a Badass: How to Stop Doubting Your Greatness and Start Living an Awesome Life\" by Jen Sincero**: Overcome self-doubt.\n",
            "\n",
            "Enjoy your self-development journey!\n",
            "You: latest info. about AI\n",
            "Assistant: Here are some **latest updates and trends in AI**:\n",
            "\n",
            "**Recent Breakthroughs:**\n",
            "\n",
            "1. **GPT-4**: OpenAI's latest language model, released in March 2023, demonstrates significant improvements in natural language understanding and generation.\n",
            "2. **Google's PaLM**: A massive language model that can generate human-like text and has achieved state-of-the-art results in various natural language processing tasks.\n",
            "3. **DeepMind's AlphaFold**: A protein-folding AI that has made significant progress in predicting protein structures, which could lead to breakthroughs in medicine and biotechnology.\n",
            "\n",
            "**Emerging Trends:**\n",
            "\n",
            "1. **Edge AI**: AI is being integrated into edge devices, such as smartphones, smart home devices, and autonomous vehicles, to enable faster and more efficient processing.\n",
            "2. **Explainable AI (XAI)**: Techniques are being developed to provide insights into AI decision-making processes, increasing transparency and trust in AI systems.\n",
            "3. **Human-AI Collaboration**: Researchers are exploring ways to enable humans and AI systems to work together more effectively, leading to improved productivity and decision-making.\n",
            "\n",
            "**Applications:**\n",
            "\n",
            "1. **Healthcare**: AI is being used to analyze medical images, diagnose diseases, and develop personalized treatment plans.\n",
            "2. **Autonomous Systems**: AI is being used to develop autonomous vehicles, drones, and robots that can navigate and interact with their environments.\n",
            "3. **Customer Service**: AI-powered chatbots and virtual assistants are being used to provide customer support and improve user experiences.\n",
            "\n",
            "**Ethics and Regulation:**\n",
            "\n",
            "1. **Bias and Fairness**: Researchers are working to address bias in AI systems and ensure that they are fair and transparent.\n",
            "2. **Regulation**: Governments and organizations are developing guidelines and regulations to ensure the safe and responsible development and deployment of AI.\n",
            "\n",
            "**Future Outlook:**\n",
            "\n",
            "1. **Increased Adoption**: AI is expected to become more pervasive in various industries, leading to improved efficiency and productivity.\n",
            "2. **Advancements in Natural Language Processing**: AI is expected to become more proficient in understanding and generating human language, leading to improved human-AI collaboration.\n",
            "3. **Potential Risks**: As AI becomes more powerful, there are concerns about its potential risks, such as job displacement, bias, and misuse.\n",
            "\n",
            "Some **key players** in the AI space include:\n",
            "\n",
            "1. **Google**: A leader in AI research and development, with a focus on applications such as computer vision, natural language processing, and robotics.\n",
            "2. **Microsoft**: A major player in AI research and development, with a focus on applications such as natural language processing, computer vision, and machine learning.\n",
            "3. **OpenAI**: A non-profit organization focused on developing and promoting AI research, with a focus on applications such as natural language processing and computer vision.\n",
            "\n",
            "These are just a few examples of the latest developments in AI. The field is rapidly evolving, and new breakthroughs and trends are emerging all the time!\n",
            "\n",
            " Summarizing conversation \n",
            "Summary: Here's a summary of our conversation:\n",
            "\n",
            "We discussed the **upcoming Olympic Games**, with the 2024 Summer Olympics taking place in Paris, France, from July 26 to August 11, and the 2026 Winter Olympics in Milan-Cortina, Italy, from February 6 to February 22.\n",
            "\n",
            "I also recommended **self-development books**, covering topics such as personal growth, productivity, goal setting, leadership, mindfulness, and inspiration.\n",
            "\n",
            "Lastly, we touched on **recent advancements in AI**, including breakthroughs in language models, protein-folding, and edge AI, as well as emerging trends, applications, and concerns surrounding AI development and deployment.\n",
            "You: exit\n",
            "Chat ended.\n"
          ]
        }
      ]
    },
    {
      "cell_type": "code",
      "source": [],
      "metadata": {
        "id": "VOIz7R5IvGpc"
      },
      "execution_count": null,
      "outputs": []
    },
    {
      "cell_type": "code",
      "source": [],
      "metadata": {
        "id": "NEdsHvT95p9w"
      },
      "execution_count": null,
      "outputs": []
    },
    {
      "cell_type": "markdown",
      "source": [
        "# Task 2: JSON Schema Classification & Information Extraction\n",
        "1. Create a JSON schema to extract 5 details from chats related to information collection (e.g., name, email, phone, location, age).\n",
        "\n",
        "2. Use OpenAI function calling with Groq API for structured outputs.\n",
        "\n",
        "3. Demonstrate:\n",
        "\n",
        "          a. Parsing of at least 3 sample chats.\n",
        "\n",
        "          b. Validation of outputs against the schema."
      ],
      "metadata": {
        "id": "POIBmCik5rGO"
      }
    },
    {
      "cell_type": "code",
      "source": [
        "import requests\n",
        "import json\n",
        "from jsonschema import validate, ValidationError\n",
        "\n",
        "# API setup (same as Task 1)\n",
        "GROQ_API_KEY = \"your groq api key\"\n",
        "GROQ_CHAT_ENDPOINT = \"https://api.groq.com/openai/v1/chat/completions\"\n",
        "HEADERS = {\n",
        "    \"Authorization\": f\"Bearer {GROQ_API_KEY}\",\n",
        "    \"Content-Type\": \"application/json\"\n",
        "}"
      ],
      "metadata": {
        "id": "xoIolMiS5p6P"
      },
      "execution_count": null,
      "outputs": []
    },
    {
      "cell_type": "code",
      "source": [
        "extraction_schema = {\n",
        "    \"name\": \"user_info_schema\",\n",
        "    \"schema\": {\n",
        "        \"type\": \"object\",\n",
        "        \"properties\": {\n",
        "            \"name\": {\"type\": \"string\"},\n",
        "            \"email\": {\"type\": \"string\"},\n",
        "            \"phone\": {\"type\": \"string\"},\n",
        "            \"location\": {\"type\": \"string\"},\n",
        "            \"age\": {\"type\": \"integer\"}\n",
        "        },\n",
        "        \"required\": [\"name\", \"email\", \"phone\", \"location\", \"age\"],\n",
        "        \"additionalProperties\": False\n",
        "    }\n",
        "}\n",
        "\n"
      ],
      "metadata": {
        "id": "8Ms0eBn05p1n"
      },
      "execution_count": null,
      "outputs": []
    },
    {
      "cell_type": "code",
      "source": [
        "functions = [\n",
        "    {\n",
        "        \"name\": \"extract_user_info\",\n",
        "        \"description\": \"Extract user details like name, email, phone, location, and age\",\n",
        "        \"parameters\": {\n",
        "            \"type\": \"object\",\n",
        "            \"properties\": {\n",
        "                \"name\": {\"type\": \"string\"},\n",
        "                \"email\": {\"type\": \"string\"},\n",
        "                \"phone\": {\"type\": \"string\"},\n",
        "                \"location\": {\"type\": \"string\"},\n",
        "                \"age\": {\"type\": \"integer\"}\n",
        "            },\n",
        "            \"required\": [\"name\", \"email\", \"phone\", \"location\", \"age\"]\n",
        "        }\n",
        "    }\n",
        "]\n"
      ],
      "metadata": {
        "id": "MKjeyEld5pvv"
      },
      "execution_count": null,
      "outputs": []
    },
    {
      "cell_type": "markdown",
      "source": [
        "extract_info_from_chat() is final function which extract info. like name, email, phone, location, age from chat"
      ],
      "metadata": {
        "id": "o6-ySQbpT_gI"
      }
    },
    {
      "cell_type": "code",
      "source": [
        "def extract_info_from_chat(chat_text):\n",
        "    url = \"https://api.groq.com/openai/v1/chat/completions\"\n",
        "    headers = {\n",
        "        \"Authorization\": f\"Bearer {GROQ_API_KEY}\",  # replace with actual key\n",
        "        \"Content-Type\": \"application/json\"\n",
        "    }\n",
        "\n",
        "    api_call = {\n",
        "        \"model\": \"meta-llama/llama-4-scout-17b-16e-instruct\",\n",
        "        \"messages\": [\n",
        "            {\"role\": \"system\", \"content\": \"Extract user details (name, email, phone, location, age) from the conversation.\"},\n",
        "            {\"role\": \"user\", \"content\": chat_text}\n",
        "        ],\n",
        "        \"response_format\": {\n",
        "            \"type\": \"json_schema\",\n",
        "            \"json_schema\": extraction_schema\n",
        "        }\n",
        "    }\n",
        "\n",
        "    response = requests.post(url, headers = headers, json = api_call)\n",
        "    response.raise_for_status()\n",
        "    data = response.json()\n",
        "\n",
        "    # Parse structured function call output\n",
        "    try:\n",
        "        extracted = json.loads(data[\"choices\"][0][\"message\"][\"content\"])\n",
        "    except KeyError:\n",
        "        raise ValueError(\"Unexpected response format. Check API output.\")\n",
        "\n",
        "    # Validate against schema\n",
        "    try:\n",
        "        validate(instance = extracted, schema = extraction_schema)\n",
        "        print(\"Validation successful:\", extracted)\n",
        "    except ValidationError as e:\n",
        "        print(\"Validation failed:\", e.message)\n",
        "\n",
        "    return extracted\n",
        "\n"
      ],
      "metadata": {
        "id": "ljtHeWDi5ps3"
      },
      "execution_count": null,
      "outputs": []
    },
    {
      "cell_type": "code",
      "source": [
        "sample_chats = [\n",
        "    \"Hello, This Garima Verma, 22 years old, from Alwar, Rajasthan. My email is garimaverma764@gmail.com or call me on 4567812345.\",\n",
        "    \"Hi, my name is Rahul Sharma. I live in Delhi. You can reach me at rahul.sharma@example.com or call me at +91-9876543210. I am 29 years old.\",\n",
        "    \"Hello, I’m Sarah Sharma from New Delhi. My email is sarah.s@gmail.com, phone number is 9645386509.\",\n",
        "    \"This is Amit Verma, aged 42, from Mumbai. Contact me on amit42@yahoo.com \",\n",
        "    \"My name is Soumya\"\n",
        "]\n"
      ],
      "metadata": {
        "id": "GjaMLRVE5pov"
      },
      "execution_count": null,
      "outputs": []
    },
    {
      "cell_type": "code",
      "source": [
        "for i, chat in enumerate(sample_chats, 1):\n",
        "    print(f\"\\n Extracting info from Chat {i} \")\n",
        "    extract_info_from_chat(chat)"
      ],
      "metadata": {
        "colab": {
          "base_uri": "https://localhost:8080/"
        },
        "id": "rIT_HPjl972k",
        "outputId": "0ce1f76b-96fe-4b52-d136-aee600cd0ac0"
      },
      "execution_count": null,
      "outputs": [
        {
          "output_type": "stream",
          "name": "stdout",
          "text": [
            "\n",
            " Extracting info from Chat 1 \n",
            "Validation successful: {'name': 'Garima Verma', 'email': 'garimaverma764@gmail.com', 'phone': '4567812345', 'location': 'Alwar, Rajasthan', 'age': 22}\n",
            "\n",
            " Extracting info from Chat 2 \n",
            "Validation successful: {'name': 'Rahul Sharma', 'email': 'rahul.sharma@example.com', 'phone': '+91-9876543210', 'location': 'Delhi', 'age': 29}\n",
            "\n",
            " Extracting info from Chat 3 \n",
            "Validation successful: {'name': 'Sarah Sharma', 'email': 'sarah.s@gmail.com', 'phone': '9645386509', 'location': 'New Delhi', 'age': None}\n",
            "\n",
            " Extracting info from Chat 4 \n",
            "Validation successful: {'name': 'Amit Verma', 'email': 'amit42@yahoo.com', 'phone': '', 'location': 'Mumbai', 'age': 42}\n",
            "\n",
            " Extracting info from Chat 5 \n",
            "Validation successful: {'name': 'Soumya'}\n"
          ]
        }
      ]
    }
  ]
}